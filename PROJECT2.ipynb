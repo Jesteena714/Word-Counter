{
 "cells": [
  {
   "cell_type": "code",
   "execution_count": 1,
   "id": "fd5c31b5-f8e8-46b8-aebb-8a3f5cea75af",
   "metadata": {},
   "outputs": [
    {
     "name": "stdout",
     "output_type": "stream",
     "text": [
      "Welcome to the Enhanced Word Counter Program!\n"
     ]
    },
    {
     "name": "stdin",
     "output_type": "stream",
     "text": [
      "Would you like to input text manually or read from a file? (manual/file):  manual\n",
      "Enter a sentence or paragraph:  he sells seashells on a sea shore\n"
     ]
    },
    {
     "name": "stdout",
     "output_type": "stream",
     "text": [
      "\n",
      "--- Text Statistics ---\n",
      "Words         : 7\n",
      "Characters    : 33\n",
      "Characters (no spaces): 27\n",
      "\n",
      "--- Word Frequencies ---\n",
      "he: 1\n",
      "sells: 1\n",
      "seashells: 1\n",
      "on: 1\n",
      "a: 1\n",
      "sea: 1\n",
      "shore: 1\n"
     ]
    },
    {
     "name": "stdin",
     "output_type": "stream",
     "text": [
      "\n",
      "Would you like to analyze another text? (yes/no):  no \n"
     ]
    },
    {
     "name": "stdout",
     "output_type": "stream",
     "text": [
      "Thank you for using the Word Counter Program. Goodbye!\n"
     ]
    }
   ],
   "source": [
    "from collections import Counter\n",
    "\n",
    "# Get user input or read from file\n",
    "def get_user_input():\n",
    "    mode = input(\"Would you like to input text manually or read from a file? (manual/file): \").strip().lower()\n",
    "    \n",
    "    if mode == 'file':\n",
    "        filename = input(\"Enter the file name (e.g., input.txt): \").strip()\n",
    "        try:\n",
    "            with open(filename, 'r') as file:\n",
    "                text = file.read().strip()\n",
    "                print(f\"\\nText from file:\\n{text}\\n\")\n",
    "                return text\n",
    "        except FileNotFoundError:\n",
    "            print(\"File not found. Please check the file name.\")\n",
    "            return None\n",
    "    else:\n",
    "        return input(\"Enter a sentence or paragraph: \").strip()\n",
    "\n",
    "# Count words and characters\n",
    "def count_text_stats(text):\n",
    "    words = text.split()\n",
    "    word_count = len(words)\n",
    "    char_count = len(text)\n",
    "    char_count_no_space = len(text.replace(\" \", \"\"))\n",
    "    return word_count, char_count, char_count_no_space, words\n",
    "\n",
    "# Display result\n",
    "def display_result(word_count, char_count, char_count_no_space, frequencies):\n",
    "    print(f\"\\n--- Text Statistics ---\")\n",
    "    print(f\"Words         : {word_count}\")\n",
    "    print(f\"Characters    : {char_count}\")\n",
    "    print(f\"Characters (no spaces): {char_count_no_space}\")\n",
    "    print(\"\\n--- Word Frequencies ---\")\n",
    "    for word, freq in frequencies.items():\n",
    "        print(f\"{word}: {freq}\")\n",
    "\n",
    "# Main loop\n",
    "def main():\n",
    "    print(\"Welcome to the Enhanced Word Counter Program!\")\n",
    "    while True:\n",
    "        text = get_user_input()\n",
    "        if not text:\n",
    "            print(\"No input received. Please try again.\")\n",
    "            continue\n",
    "\n",
    "        word_count, char_count, char_count_no_space, words = count_text_stats(text)\n",
    "        frequencies = Counter(word.lower() for word in words)\n",
    "        display_result(word_count, char_count, char_count_no_space, frequencies)\n",
    "\n",
    "        retry = input(\"\\nWould you like to analyze another text? (yes/no): \").strip().lower()\n",
    "        if retry != 'yes':\n",
    "            print(\"Thank you for using the Word Counter Program. Goodbye!\")\n",
    "            break\n",
    "\n",
    "if __name__ == \"__main__\":\n",
    "    main()"
   ]
  },
  {
   "cell_type": "code",
   "execution_count": null,
   "id": "09568488-c8f6-40d0-bca8-c6d217fe081f",
   "metadata": {},
   "outputs": [],
   "source": []
  }
 ],
 "metadata": {
  "kernelspec": {
   "display_name": "Python 3 (ipykernel)",
   "language": "python",
   "name": "python3"
  },
  "language_info": {
   "codemirror_mode": {
    "name": "ipython",
    "version": 3
   },
   "file_extension": ".py",
   "mimetype": "text/x-python",
   "name": "python",
   "nbconvert_exporter": "python",
   "pygments_lexer": "ipython3",
   "version": "3.12.7"
  }
 },
 "nbformat": 4,
 "nbformat_minor": 5
}
