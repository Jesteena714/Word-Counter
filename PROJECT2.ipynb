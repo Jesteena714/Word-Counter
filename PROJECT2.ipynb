{
 "cells": [
  {
   "cell_type": "code",
   "execution_count": 2,
   "id": "fd5c31b5-f8e8-46b8-aebb-8a3f5cea75af",
   "metadata": {},
   "outputs": [
    {
     "name": "stdout",
     "output_type": "stream",
     "text": [
      "Welcome to the Word Counter Program!\n"
     ]
    },
    {
     "name": "stdin",
     "output_type": "stream",
     "text": [
      "Enter a sentence :  I am not good with statistics\n"
     ]
    },
    {
     "name": "stdout",
     "output_type": "stream",
     "text": [
      "The number of words in the text is: 6\n"
     ]
    },
    {
     "name": "stdin",
     "output_type": "stream",
     "text": [
      "Would you like to count words for another input? (yes/no):  no\n"
     ]
    },
    {
     "name": "stdout",
     "output_type": "stream",
     "text": [
      "Thank you for using the Word Counter Program. Goodbye!\n"
     ]
    }
   ],
   "source": [
    "def get_user_input():\n",
    "    \n",
    "    user_input = input(\"Enter a sentence : \").strip()\n",
    "    return user_input\n",
    "\n",
    "\n",
    "def count_words(text):\n",
    "   \n",
    "    \n",
    "    words = text.split()\n",
    "    return len(words)\n",
    "\n",
    "\n",
    "def display_result(word_count):\n",
    "   \n",
    "    print(f\"The number of words in the text is: {word_count}\")\n",
    "\n",
    "\n",
    "def main():\n",
    "    \n",
    "    print(\"Welcome to the Word Counter Program!\")\n",
    "    while True:\n",
    "        text = get_user_input()\n",
    "        \n",
    "        if not text:\n",
    "            print(\"Input cannot be empty. Please try again.\")\n",
    "            continue\n",
    "\n",
    "        word_count = count_words(text)\n",
    "        display_result(word_count)\n",
    "\n",
    "       \n",
    "        retry = input(\"Would you like to count words for another input? (yes/no): \").strip().lower()\n",
    "        if retry != 'yes':\n",
    "            print(\"Thank you for using the Word Counter Program. Goodbye!\")\n",
    "            break\n",
    "\n",
    "\n",
    "if __name__ == \"__main__\":\n",
    "    main()\n"
   ]
  },
  {
   "cell_type": "code",
   "execution_count": null,
   "id": "09568488-c8f6-40d0-bca8-c6d217fe081f",
   "metadata": {},
   "outputs": [],
   "source": []
  }
 ],
 "metadata": {
  "kernelspec": {
   "display_name": "Python 3 (ipykernel)",
   "language": "python",
   "name": "python3"
  },
  "language_info": {
   "codemirror_mode": {
    "name": "ipython",
    "version": 3
   },
   "file_extension": ".py",
   "mimetype": "text/x-python",
   "name": "python",
   "nbconvert_exporter": "python",
   "pygments_lexer": "ipython3",
   "version": "3.12.7"
  }
 },
 "nbformat": 4,
 "nbformat_minor": 5
}
